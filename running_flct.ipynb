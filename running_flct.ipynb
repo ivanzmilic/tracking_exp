{
  "cells": [
    {
      "cell_type": "markdown",
      "metadata": {},
      "source": [
        "\n# Fourier Local Correlation Tracking\n\nThis example applies Fourier Local Correlation Tracking (FLCT)\nto a set of two arrays using `pyflct`.\n"
      ]
    },
    {
      "cell_type": "code",
      "execution_count": null,
      "metadata": {
        "collapsed": false
      },
      "outputs": [],
      "source": [
        "import matplotlib.pyplot as plt\nimport numpy as np\n\nimport pyflct"
      ]
    },
    {
      "cell_type": "markdown",
      "metadata": {},
      "source": [
        "This examples demonstrates how to find the 2D velocity flow field.\nIt has three parts all of which depicts motion of the object in a dummy\nimage in some particular directions.\nFirst we plot the velocity field when the image moves in positive ``X`` direction.\n\n"
      ]
    },
    {
      "cell_type": "code",
      "execution_count": null,
      "metadata": {
        "collapsed": false
      },
      "outputs": [],
      "source": [
        "# Creating the input arrays\nimage1 = np.zeros((10, 10))\nimage1[0:3, 0:3] = 1\n\nimage2 = np.zeros((10, 10))\nimage2[0:3, 1:4] = 1"
      ]
    },
    {
      "cell_type": "markdown",
      "metadata": {},
      "source": [
        "Now we will apply the FLCT.\nThe values of the parameters used gave the best visual result\nof the velocities. The time difference between the two images, ``deltat`` is\n1 second. The units of length of the side of a single pixel, ``deltas`` is\n1. The width of Gaussian used to weigh the subimages, ``sigma`` is taken to be 2.3.\nNote you should experiment with the values of ``sigma`` to get the best results.\n\n"
      ]
    },
    {
      "cell_type": "code",
      "execution_count": null,
      "metadata": {
        "collapsed": false
      },
      "outputs": [],
      "source": [
        "vel_x, vel_y, vm = pyflct.flct(image1, image2, 1, 1, 2.3)"
      ]
    },
    {
      "cell_type": "markdown",
      "metadata": {},
      "source": [
        "We will plot the 2D flow field what we get when the image have moved in positive ``X`` direction.\n\n"
      ]
    },
    {
      "cell_type": "code",
      "execution_count": null,
      "metadata": {
        "collapsed": false
      },
      "outputs": [],
      "source": [
        "# But first we need to create a meshgrid on which the flow field will be plotted\nX = np.arange(0, 10, 1)\nY = np.arange(0, 10, 1)\nU, V = np.meshgrid(X, Y)\n\n# Plotting the first image\nfig = plt.figure(figsize=(12, 4))\n\nax1 = fig.add_subplot(131)\nplt.imshow(image1, origin=\"lower\")\nax1.set_title(\"First Image\")\n\n# Plot the 2D flow field\nax2 = fig.add_subplot(132)\nax2.quiver(U, V, vel_x, vel_y, scale=20)\nax2.set_title(\"Flow Field\")\n\n# Plot the shifted image\nax3 = fig.add_subplot(133)\nplt.imshow(image2, origin=\"lower\")\nax3.set_title(\"Second Image\")"
      ]
    },
    {
      "cell_type": "markdown",
      "metadata": {},
      "source": [
        "Now, we plot the velocity field when the image moves in positive ``Y`` direction.\n\n"
      ]
    },
    {
      "cell_type": "code",
      "execution_count": null,
      "metadata": {
        "collapsed": false
      },
      "outputs": [],
      "source": [
        "# Creating the input arrays\nimage1 = np.zeros((10, 10))\nimage1[0:3, 0:3] = 1\n\nimage2 = np.zeros((10, 10))\nimage2[1:4, 0:3] = 1"
      ]
    },
    {
      "cell_type": "markdown",
      "metadata": {},
      "source": [
        "Now we again apply FLCT to this new set of images using the same parameter values\nas before.\n\n"
      ]
    },
    {
      "cell_type": "code",
      "execution_count": null,
      "metadata": {
        "collapsed": false
      },
      "outputs": [],
      "source": [
        "vel_x, vel_y, vm = pyflct.flct(image1, image2, 1, 1, 2.3)"
      ]
    },
    {
      "cell_type": "markdown",
      "metadata": {},
      "source": [
        "We will plot the 2D flow field what we get when the image have moved in positive ``Y`` direction.\n\n"
      ]
    },
    {
      "cell_type": "code",
      "execution_count": null,
      "metadata": {
        "collapsed": false
      },
      "outputs": [],
      "source": [
        "# Plotting the first image\nfig = plt.figure(figsize=(12, 4))\n\nax1 = fig.add_subplot(131)\nplt.imshow(image1, origin=\"lower\")\nax1.set_title(\"First Image\")\n\n# Plot the 2D flow field\nax2 = fig.add_subplot(132)\nax2.quiver(U, V, vel_x, vel_y, scale=20)\nax2.set_title(\"Flow Field\")\n\n# Plot the shifted image\nax3 = fig.add_subplot(133)\nplt.imshow(image2, origin=\"lower\")\nax3.set_title(\"Second Image\")"
      ]
    },
    {
      "cell_type": "markdown",
      "metadata": {},
      "source": [
        "Finally we plot the velocity field when the image moves in both the directions.\n\n"
      ]
    },
    {
      "cell_type": "code",
      "execution_count": null,
      "metadata": {
        "collapsed": false
      },
      "outputs": [],
      "source": [
        "# Creating the input arrays\nimage1 = np.zeros((10, 10))\nimage1[0:3, 0:3] = 1\n\nimage2 = np.zeros((10, 10))\nimage2[1:4, 1:4] = 1"
      ]
    },
    {
      "cell_type": "markdown",
      "metadata": {},
      "source": [
        "We again apply FLCT with the similar settings as before to find the velocity field\n\n"
      ]
    },
    {
      "cell_type": "code",
      "execution_count": null,
      "metadata": {
        "collapsed": false
      },
      "outputs": [],
      "source": [
        "vel_x, vel_y, vm = pyflct.flct(image1, image2, 1, 1, 2.3)"
      ]
    },
    {
      "cell_type": "markdown",
      "metadata": {},
      "source": [
        "We will plot the 2D flow field what we get when the image have moved in both directions.\n\n"
      ]
    },
    {
      "cell_type": "code",
      "execution_count": null,
      "metadata": {
        "collapsed": false
      },
      "outputs": [],
      "source": [
        "# Plotting the first image\nfig = plt.figure(figsize=(12, 4))\n\nax1 = fig.add_subplot(131)\nplt.imshow(image1, origin=\"lower\")\nax1.set_title(\"First Image\")\n\n# Plot the 2D flow field\nax2 = fig.add_subplot(132)\nax2.quiver(U, V, vel_x, vel_y, scale=20)\nax2.set_title(\"Flow Field\")\n\n# Plot the shifted image\nax3 = fig.add_subplot(133)\nplt.imshow(image2, origin=\"lower\")\nax3.set_title(\"Second Image\")"
      ]
    },
    {
      "cell_type": "markdown",
      "metadata": {},
      "source": [
        "Notice the lonely pixel in the bottom left of every flow field which has value less than zero.\nThis discrepancy is due one of the limitations of the FLCT algorithm where it is unable to reliably\ncalculate the velocities within ``sigma`` pixels of the image edges.\n\n"
      ]
    },
    {
      "cell_type": "code",
      "execution_count": null,
      "metadata": {
        "collapsed": false
      },
      "outputs": [],
      "source": [
        "plt.show()"
      ]
    }
  ],
  "metadata": {
    "kernelspec": {
      "display_name": "Python 3",
      "language": "python",
      "name": "python3"
    },
    "language_info": {
      "codemirror_mode": {
        "name": "ipython",
        "version": 3
      },
      "file_extension": ".py",
      "mimetype": "text/x-python",
      "name": "python",
      "nbconvert_exporter": "python",
      "pygments_lexer": "ipython3",
      "version": "3.9.18"
    }
  },
  "nbformat": 4,
  "nbformat_minor": 0
}